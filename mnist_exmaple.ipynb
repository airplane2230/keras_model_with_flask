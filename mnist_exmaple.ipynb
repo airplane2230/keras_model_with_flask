{
 "cells": [
  {
   "cell_type": "code",
   "execution_count": 3,
   "metadata": {},
   "outputs": [],
   "source": [
    "import cv2\n",
    "import matplotlib.pyplot as plt\n",
    "\n",
    "img = cv2.imread('./test2.png')"
   ]
  },
  {
   "cell_type": "code",
   "execution_count": 9,
   "metadata": {},
   "outputs": [
    {
     "data": {
      "text/plain": [
       "0    135000\n",
       "dtype: int64"
      ]
     },
     "execution_count": 9,
     "metadata": {},
     "output_type": "execute_result"
    }
   ],
   "source": [
    "import pandas as pd\n",
    "\n",
    "pd.value_counts(img.flatten())"
   ]
  },
  {
   "cell_type": "code",
   "execution_count": 4,
   "metadata": {},
   "outputs": [
    {
     "data": {
      "text/plain": [
       "<matplotlib.image.AxesImage at 0x1bb231daf98>"
      ]
     },
     "execution_count": 4,
     "metadata": {},
     "output_type": "execute_result"
    },
    {
     "data": {
      "image/png": "[encoded data removed]",
      "text/plain": [
       "<Figure size 432x288 with 1 Axes>"
      ]
     },
     "metadata": {
      "needs_background": "light"
     },
     "output_type": "display_data"
    }
   ],
   "source": [
    "plt.imshow(img)"
   ]
  },
  {
   "cell_type": "markdown",
   "metadata": {},
   "source": [
    "### 데이터 불러오기"
   ]
  },
  {
   "cell_type": "code",
   "execution_count": 1,
   "metadata": {},
   "outputs": [],
   "source": [
    "from tensorflow.keras.datasets.mnist import load_data\n",
    "from sklearn.model_selection import train_test_split\n",
    "import numpy as np\n",
    "import tensorflow as tf\n",
    "\n",
    "(x_train, y_train), (x_test, y_test) = load_data()\n",
    "\n",
    "x_train, x_val, y_train, y_val = train_test_split(x_train, y_train, random_state = 777, test_size = 0.3)\n",
    "\n",
    "x_train = (x_train/255.)[..., np.newaxis]\n",
    "x_val = (x_val/255.)[..., np.newaxis]\n",
    "x_test = (x_test/255.)[..., np.newaxis]\n",
    "\n",
    "train_ds = tf.data.Dataset.from_tensor_slices((x_train, y_train)).batch(32)\n",
    "val_ds = tf.data.Dataset.from_tensor_slices((x_val, y_val)).batch(32)"
   ]
  },
  {
   "cell_type": "markdown",
   "metadata": {},
   "source": [
    "### 모델 정의하기"
   ]
  },
  {
   "cell_type": "code",
   "execution_count": 11,
   "metadata": {},
   "outputs": [],
   "source": [
    "from tensorflow.keras.layers import Conv2D, Input, MaxPool2D, Dense, Flatten\n",
    "from tensorflow.keras.models import Model\n",
    "\n",
    "class ConvModel(Model):\n",
    "    def __init__(self):\n",
    "        super(ConvModel, self).__init__()\n",
    "        self.conv1 = Conv2D(32, 3, padding = 'same', activation = 'relu')\n",
    "        self.maxpool1 = MaxPool2D((2, 2))\n",
    "        self.flatten = Flatten()\n",
    "        self.d1 = Dense(128, activation = 'relu')\n",
    "        self.d2 = Dense(10, activation = 'softmax')\n",
    "        \n",
    "    def call(self, x):\n",
    "        x = self.conv1(x)\n",
    "        x = self.maxpool1(x)\n",
    "        x = self.flatten(x)\n",
    "        x = self.d1(x)\n",
    "        \n",
    "        return self.d2(x)\n",
    "    \n",
    "def mnist_model():\n",
    "    inputs = Input(shape=(28, 28, 1))\n",
    "    \n",
    "    x = Conv2D(32, 3, padding = 'same', activation = 'relu')(inputs)\n",
    "    x = MaxPool2D((2, 2))(x)\n",
    "    x = Flatten()(x)\n",
    "    x = Dense(128, activation = 'relu')(x)\n",
    "    x = Dense(10, activation = 'softmax')(x)\n",
    "    \n",
    "    model = Model(inputs = inputs, outputs = x)\n",
    "    \n",
    "    return model\n",
    "\n",
    "# model = ConvModel()\n",
    "model = mnist_model()"
   ]
  },
  {
   "cell_type": "markdown",
   "metadata": {},
   "source": [
    "### 학습 준비"
   ]
  },
  {
   "cell_type": "code",
   "execution_count": 12,
   "metadata": {},
   "outputs": [],
   "source": [
    "from tensorflow.keras.losses import SparseCategoricalCrossentropy\n",
    "from tensorflow.keras.optimizers import Adam\n",
    "from tensorflow.keras.metrics import SparseCategoricalAccuracy, Mean\n",
    "\n",
    "loss_object = SparseCategoricalCrossentropy()\n",
    "optimizer = Adam()\n",
    "\n",
    "train_loss = Mean(name = 'train_loss')\n",
    "train_acc = SparseCategoricalAccuracy(name = 'train_acc')\n",
    "\n",
    "val_loss = Mean(name = 'val_loss')\n",
    "val_acc = SparseCategoricalAccuracy(name = 'val_acc')"
   ]
  },
  {
   "cell_type": "markdown",
   "metadata": {},
   "source": [
    "### 학습"
   ]
  },
  {
   "cell_type": "code",
   "execution_count": 13,
   "metadata": {},
   "outputs": [
    {
     "name": "stdout",
     "output_type": "stream",
     "text": [
      "WARNING:tensorflow:Layer conv2d_1 is casting an input tensor from dtype float64 to the layer's dtype of float32, which is new behavior in TensorFlow 2.  The layer has dtype float32 because it's dtype defaults to floatx.\n",
      "\n",
      "If you intended to run this layer in float32, you can safely ignore this warning. If in doubt, this warning is likely only an issue if you are porting a TensorFlow 1.X model to TensorFlow 2.\n",
      "\n",
      "To change all layers to have dtype float64 by default, call `tf.keras.backend.set_floatx('float64')`. To change just this layer, pass dtype='float64' to the layer constructor. If you are the author of this layer, you can disable autocasting by passing autocast=False to the base Layer constructor.\n",
      "\n",
      "Epoch 1, Loss: 0.1785806566476822, Accuracy: 94.76905059814453, Test Loss: 0.07823982834815979, Test Accuracy: 97.65555572509766\n",
      "Epoch 2, Loss: 0.06067364662885666, Accuracy: 98.15238189697266, Test Loss: 0.06014944240450859, Test Accuracy: 98.22777557373047\n",
      "Epoch 3, Loss: 0.03603561595082283, Accuracy: 98.9142837524414, Test Loss: 0.05849820747971535, Test Accuracy: 98.3499984741211\n",
      "Epoch 4, Loss: 0.021314039826393127, Accuracy: 99.40714263916016, Test Loss: 0.06232711300253868, Test Accuracy: 98.22777557373047\n",
      "Epoch 5, Loss: 0.01460141222923994, Accuracy: 99.56666564941406, Test Loss: 0.06874822080135345, Test Accuracy: 98.21666717529297\n",
      "Epoch 6, Loss: 0.011009103618562222, Accuracy: 99.6642837524414, Test Loss: 0.07851705700159073, Test Accuracy: 98.08333587646484\n",
      "Epoch 7, Loss: 0.009146219119429588, Accuracy: 99.72142791748047, Test Loss: 0.06782738119363785, Test Accuracy: 98.39443969726562\n",
      "Epoch 8, Loss: 0.006244981195777655, Accuracy: 99.79761505126953, Test Loss: 0.07543531805276871, Test Accuracy: 98.44444274902344\n",
      "Epoch 9, Loss: 0.005199332721531391, Accuracy: 99.82856750488281, Test Loss: 0.07943061739206314, Test Accuracy: 98.4111099243164\n",
      "Epoch 10, Loss: 0.004147741943597794, Accuracy: 99.86904907226562, Test Loss: 0.08004764467477798, Test Accuracy: 98.50555419921875\n"
     ]
    }
   ],
   "source": [
    "@tf.function\n",
    "def train_step(images, labels):\n",
    "    with tf.GradientTape() as tape:\n",
    "        output = model(images)\n",
    "        loss = loss_object(labels, output)\n",
    "    gradients = tape.gradient(loss, model.trainable_variables)\n",
    "    optimizer.apply_gradients(zip(gradients, model.trainable_variables))\n",
    "    \n",
    "    train_loss(loss)\n",
    "    train_acc(labels, output)\n",
    "    \n",
    "@tf.function\n",
    "def val_step(images, labels):\n",
    "    output = model(images)\n",
    "    v_loss = loss_object(labels, output)\n",
    "    \n",
    "    val_loss(v_loss)\n",
    "    val_acc(labels, output)\n",
    "    \n",
    "epochs = 10\n",
    "    \n",
    "for epoch in range(epochs):\n",
    "    train_loss.reset_states()\n",
    "    train_acc.reset_states()\n",
    "    val_loss.reset_states()\n",
    "    val_acc.reset_states()\n",
    "    \n",
    "    for images, labels in train_ds:\n",
    "        train_step(images, labels)\n",
    "        \n",
    "    for images, labels in val_ds:\n",
    "        val_step(images, labels)\n",
    "        \n",
    "    template = 'Epoch {}, Loss: {}, Accuracy: {}, Test Loss: {}, Test Accuracy: {}'\n",
    "    print(template.format(epoch + 1,\n",
    "                        train_loss.result(),\n",
    "                        train_acc.result() * 100,\n",
    "                        val_loss.result(),\n",
    "                        val_acc.result() * 100))"
   ]
  },
  {
   "cell_type": "markdown",
   "metadata": {},
   "source": [
    "### 모델 저장"
   ]
  },
  {
   "cell_type": "code",
   "execution_count": 15,
   "metadata": {},
   "outputs": [],
   "source": [
    "tf.keras.models.save_model(model, './saved_model/mnist_model.h5', save_format='tf')"
   ]
  }
 ],
 "metadata": {
  "kernelspec": {
   "display_name": "work",
   "language": "python",
   "name": "work"
  },
  "language_info": {
   "codemirror_mode": {
    "name": "ipython",
    "version": 3
   },
   "file_extension": ".py",
   "mimetype": "text/x-python",
   "name": "python",
   "nbconvert_exporter": "python",
   "pygments_lexer": "ipython3",
   "version": "3.6.5"
  }
 },
 "nbformat": 4,
 "nbformat_minor": 2
}
